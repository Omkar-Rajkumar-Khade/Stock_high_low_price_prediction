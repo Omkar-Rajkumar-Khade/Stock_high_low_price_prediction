{
 "cells": [
  {
   "cell_type": "code",
   "execution_count": 1,
   "metadata": {},
   "outputs": [],
   "source": [
    "# pip install yfinance"
   ]
  },
  {
   "cell_type": "code",
   "execution_count": 2,
   "metadata": {},
   "outputs": [
    {
     "name": "stdout",
     "output_type": "stream",
     "text": [
      "[*********************100%***********************]  1 of 1 completed\n",
      "           Date        Open        High         Low       Close   Adj Close  \\\n",
      "0    2000-01-03    8.309460    8.601414    8.202785    8.559305    2.041356   \n",
      "1    2000-01-04    8.427365    8.590185    8.031542    8.466666    2.019262   \n",
      "2    2000-01-05    8.118567    9.146021    8.118567    8.789500    2.096256   \n",
      "3    2000-01-06    8.924248    9.494120    8.924248    9.446396    2.252923   \n",
      "4    2000-01-07    9.735543   10.049955    9.336914    9.654133    2.302467   \n",
      "...         ...         ...         ...         ...         ...         ...   \n",
      "5822 2023-04-24  106.400002  106.699997  105.349998  106.500000  106.500000   \n",
      "5823 2023-04-25  106.699997  107.599998  106.250000  107.050003  107.050003   \n",
      "5824 2023-04-26  106.500000  107.050003  105.849998  106.849998  106.849998   \n",
      "5825 2023-04-27  106.300003  107.849998  106.300003  107.650002  107.650002   \n",
      "5826 2023-04-28  107.800003  108.500000  107.300003  107.949997  107.949997   \n",
      "\n",
      "        Volume  \n",
      "0     35678775  \n",
      "1     27698564  \n",
      "2     68399389  \n",
      "3     45604218  \n",
      "4     64862245  \n",
      "...        ...  \n",
      "5822  23475012  \n",
      "5823  23333425  \n",
      "5824  23590297  \n",
      "5825  22364308  \n",
      "5826  30072920  \n",
      "\n",
      "[5827 rows x 7 columns]\n"
     ]
    }
   ],
   "source": [
    "import yfinance as yf\n",
    "import pandas as pd\n",
    "stock=\"TATASTEEL.NS\"\n",
    "start1 = '2000-01-01'\n",
    "df=yf.download(stock,start=start1)\n",
    "# Check if the index has a name\n",
    "if df.index.name == 'Date':\n",
    "    # Reset the index and move the \"Date\" column to a regular column\n",
    "    df = df.reset_index()\n",
    "print(df)"
   ]
  },
  {
   "cell_type": "code",
   "execution_count": 3,
   "metadata": {},
   "outputs": [
    {
     "name": "stdout",
     "output_type": "stream",
     "text": [
      "<class 'pandas.core.frame.DataFrame'>\n",
      "RangeIndex: 5827 entries, 0 to 5826\n",
      "Data columns (total 7 columns):\n",
      " #   Column     Non-Null Count  Dtype         \n",
      "---  ------     --------------  -----         \n",
      " 0   Date       5827 non-null   datetime64[ns]\n",
      " 1   Open       5827 non-null   float64       \n",
      " 2   High       5827 non-null   float64       \n",
      " 3   Low        5827 non-null   float64       \n",
      " 4   Close      5827 non-null   float64       \n",
      " 5   Adj Close  5827 non-null   float64       \n",
      " 6   Volume     5827 non-null   int64         \n",
      "dtypes: datetime64[ns](1), float64(5), int64(1)\n",
      "memory usage: 318.8 KB\n"
     ]
    }
   ],
   "source": [
    "df.info()"
   ]
  },
  {
   "cell_type": "code",
   "execution_count": 4,
   "metadata": {},
   "outputs": [
    {
     "name": "stdout",
     "output_type": "stream",
     "text": [
      "RMSE: 0.524\n",
      "R-squared: 1.000\n"
     ]
    }
   ],
   "source": [
    "import pandas as pd\n",
    "from sklearn.model_selection import train_test_split\n",
    "from sklearn.tree import DecisionTreeRegressor\n",
    "from sklearn.metrics import r2_score, mean_squared_error\n",
    "from sklearn.tree import DecisionTreeRegressor\n",
    "from sklearn.ensemble import RandomForestRegressor\n",
    "\n",
    "# Extract day, month, and year values from the Date column\n",
    "df['Day'] = pd.to_datetime(df['Date']).dt.day\n",
    "df['Month'] = pd.to_datetime(df['Date']).dt.month\n",
    "df['Year'] = pd.to_datetime(df['Date']).dt.year\n",
    "\n",
    "# Split the data into X (input) and y (output)\n",
    "X = df[['Day', 'Month','Year','Open', 'Close']]\n",
    "y = df[['High','Low']]\n",
    "\n",
    "# Split the data into training and testing sets\n",
    "X_train, X_test, y_train, y_test = train_test_split(X, y, test_size=0.2, random_state=42)\n",
    "\n",
    "# Train the decision tree regressor\n",
    "dt_model = RandomForestRegressor(n_estimators=100, random_state=0)\n",
    "dt_model.fit(X_train, y_train)\n",
    "\n",
    "# Make predictions on the testing data\n",
    "y_pred = dt_model.predict(X_test)\n",
    "\n",
    "# Evaluate the model performance using Root Mean Squared Error (RMSE) and R-squared\n",
    "rmse = mean_squared_error(y_test, y_pred, squared=False)\n",
    "r2 = r2_score(y_test, y_pred)\n",
    "\n",
    "# Print the model performance metrics\n",
    "print(f\"RMSE: {rmse:.3f}\")\n",
    "print(f\"R-squared: {r2:.3f}\")\n"
   ]
  },
  {
   "cell_type": "code",
   "execution_count": 5,
   "metadata": {},
   "outputs": [
    {
     "name": "stdout",
     "output_type": "stream",
     "text": [
      "Predicted High value: 104.47\n",
      "Predicted Low value: 101.82\n"
     ]
    }
   ],
   "source": [
    "# Create a sample input\n",
    "sample_input = pd.DataFrame({'Day': [29], 'Month': [3], 'Year': [2023], 'Open': [102.50], 'Close': [103.60]})\n",
    "\n",
    "# Make a prediction on the sample input\n",
    "predicted_high_low = dt_model.predict(sample_input)\n",
    "\n",
    "# Print the predicted High and Low values\n",
    "print(f\"Predicted High value: {predicted_high_low[0][0]:.2f}\")\n",
    "print(f\"Predicted Low value: {predicted_high_low[0][1]:.2f}\")\n",
    "\n"
   ]
  },
  {
   "cell_type": "code",
   "execution_count": null,
   "metadata": {},
   "outputs": [],
   "source": []
  }
 ],
 "metadata": {
  "kernelspec": {
   "display_name": "Python 3",
   "language": "python",
   "name": "python3"
  },
  "language_info": {
   "codemirror_mode": {
    "name": "ipython",
    "version": 3
   },
   "file_extension": ".py",
   "mimetype": "text/x-python",
   "name": "python",
   "nbconvert_exporter": "python",
   "pygments_lexer": "ipython3",
   "version": "3.10.8"
  },
  "orig_nbformat": 4
 },
 "nbformat": 4,
 "nbformat_minor": 2
}
